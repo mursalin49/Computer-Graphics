{
  "nbformat": 4,
  "nbformat_minor": 0,
  "metadata": {
    "colab": {
      "provenance": [],
      "authorship_tag": "ABX9TyPds3D6MWV1U74z1BUShokQ",
      "include_colab_link": true
    },
    "kernelspec": {
      "name": "python3",
      "display_name": "Python 3"
    },
    "language_info": {
      "name": "python"
    }
  },
  "cells": [
    {
      "cell_type": "markdown",
      "metadata": {
        "id": "view-in-github",
        "colab_type": "text"
      },
      "source": [
        "<a href=\"https://colab.research.google.com/github/mursalin49/Computer-Graphics/blob/main/bresenham.ipynb\" target=\"_parent\"><img src=\"https://colab.research.google.com/assets/colab-badge.svg\" alt=\"Open In Colab\"/></a>"
      ]
    },
    {
      "cell_type": "code",
      "execution_count": 11,
      "metadata": {
        "colab": {
          "base_uri": "https://localhost:8080/",
          "height": 1000
        },
        "id": "wPnGK168N7H9",
        "outputId": "09c2fd67-fa08-454e-9729-037318443b92"
      },
      "outputs": [
        {
          "output_type": "stream",
          "name": "stdout",
          "text": [
            "x: 11 y: 60\n",
            "x: 12 y: 61\n",
            "x: 13 y: 61\n",
            "x: 14 y: 61\n",
            "x: 15 y: 61\n",
            "x: 16 y: 62\n",
            "x: 17 y: 62\n",
            "x: 18 y: 62\n",
            "x: 19 y: 62\n",
            "x: 20 y: 63\n",
            "x: 21 y: 63\n",
            "x: 22 y: 63\n",
            "x: 23 y: 63\n",
            "x: 24 y: 64\n",
            "x: 25 y: 64\n",
            "x: 26 y: 64\n",
            "x: 27 y: 64\n",
            "x: 28 y: 65\n",
            "x: 29 y: 65\n",
            "x: 30 y: 65\n",
            "x: 31 y: 65\n",
            "x: 32 y: 66\n",
            "x: 33 y: 66\n",
            "x: 34 y: 66\n",
            "x: 35 y: 66\n",
            "x: 36 y: 67\n",
            "x: 37 y: 67\n",
            "x: 38 y: 67\n",
            "x: 39 y: 67\n",
            "x: 40 y: 68\n",
            "x: 41 y: 68\n",
            "x: 42 y: 68\n",
            "x: 43 y: 68\n",
            "x: 44 y: 69\n",
            "x: 45 y: 69\n",
            "x: 46 y: 69\n",
            "x: 47 y: 69\n",
            "x: 48 y: 70\n",
            "x: 49 y: 70\n",
            "x: 50 y: 70\n",
            "x: 51 y: 70\n",
            "x: 52 y: 71\n",
            "x: 53 y: 71\n",
            "x: 54 y: 71\n",
            "x: 55 y: 71\n",
            "x: 56 y: 72\n",
            "x: 57 y: 72\n",
            "x: 58 y: 72\n",
            "x: 59 y: 72\n",
            "x: 60 y: 73\n",
            "x: 61 y: 73\n",
            "x: 62 y: 73\n",
            "x: 63 y: 73\n",
            "x: 64 y: 74\n",
            "x: 65 y: 74\n",
            "x: 66 y: 74\n",
            "x: 67 y: 74\n",
            "x: 68 y: 75\n",
            "x: 69 y: 75\n",
            "x: 70 y: 75\n"
          ]
        },
        {
          "output_type": "display_data",
          "data": {
            "text/plain": [
              "<Figure size 640x480 with 1 Axes>"
            ],
            "image/png": "[encoded data removed]"
          },
          "metadata": {}
        }
      ],
      "source": [
        "import matplotlib.pyplot as plt\n",
        "\n",
        "def bresenham(x0, y0, x1, y1):\n",
        "    xcoordinates = []\n",
        "    ycoordinates = []\n",
        "\n",
        "    dx = x1 - x0\n",
        "    dy = y1 - y0\n",
        "    x = x0\n",
        "    y = y0\n",
        "    p = 2 * dy - dx\n",
        "\n",
        "    while x < x1:\n",
        "        if p >= 0:\n",
        "            y = y + 1\n",
        "            p = p + 2 * dy - 2 * dx\n",
        "        else:\n",
        "            p = p + 2 * dy\n",
        "        x = x + 1\n",
        "\n",
        "        print(\"x:\", x , end=\" \")\n",
        "        print(\"y:\", y, end=\"\\n\")\n",
        "\n",
        "        xcoordinates.append(x)\n",
        "        ycoordinates.append(y)\n",
        "\n",
        "    plt.plot(xcoordinates, ycoordinates, marker='o', markersize=3,\n",
        "           markerfacecolor=\"red\")\n",
        "\n",
        "    plt.show()\n",
        "\n",
        "\n",
        "# print(\"Enter co-ordinates of first point: \")\n",
        "# x0 = int(input())\n",
        "# y0 = int(input())\n",
        "# print(\"Enter co-ordinates of second point: \")\n",
        "# x1 = int(input())\n",
        "# y1 = int(input())\n",
        "\n",
        "bresenham(10, 60, 70, 75)"
      ]
    }
  ]
}